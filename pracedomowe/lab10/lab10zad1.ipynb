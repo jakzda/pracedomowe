{
  "nbformat": 4,
  "nbformat_minor": 0,
  "metadata": {
    "colab": {
      "name": "Untitled0.ipynb",
      "provenance": []
    },
    "kernelspec": {
      "name": "python3",
      "display_name": "Python 3"
    }
  },
  "cells": [
    {
      "cell_type": "markdown",
      "metadata": {
        "id": "a0DUEpVBNljK"
      },
      "source": [
        "Metoda prostokątów:\r\n"
      ]
    },
    {
      "cell_type": "code",
      "metadata": {
        "colab": {
          "base_uri": "https://localhost:8080/"
        },
        "id": "_o3jCCPDKiTg",
        "outputId": "fc4aa3a9-5f1d-42bc-85e0-ce1bb405248b"
      },
      "source": [
        "def integrate(function, a, b, i):\r\n",
        "    dx = (b - a) / i\r\n",
        "    integr = 0\r\n",
        "    for x in range(i):\r\n",
        "        x = x * dx + a\r\n",
        "        integr += dx * eval(function)\r\n",
        "    return integr\r\n",
        "\r\n",
        "\r\n",
        "function = input(\"Funkcja: \")\r\n",
        "a = float(input(\"Początek przedziału: \"))\r\n",
        "b = float(input(\"Koniec przedziału: \"))\r\n",
        "i = int(input(\"Liczba podprzedziałów: \"))\r\n",
        "print(\"Całka z funkcji {funkcjon} po przedziale od {a} do {b} = {integrate}\".format(funkcjon = function, a = a, b = b, integrate = integrate(function, a, b, i)))"
      ],
      "execution_count": 2,
      "outputs": [
        {
          "output_type": "stream",
          "text": [
            "Funkcja: 2*x*x\n",
            "Początek przedziału: 2\n",
            "Koniec przedziału: 12\n",
            "Liczba podprzedziałów: 5\n",
            "Całka z funkcji 2*x*x po przedziale od 2.0 do 12.0 = 880.0\n"
          ],
          "name": "stdout"
        }
      ]
    },
    {
      "cell_type": "markdown",
      "metadata": {
        "id": "qgExzRKfNrMT"
      },
      "source": [
        "Metoda trapezów:\r\n"
      ]
    },
    {
      "cell_type": "code",
      "metadata": {
        "colab": {
          "base_uri": "https://localhost:8080/"
        },
        "id": "OID96N5bLLGA",
        "outputId": "f1f20a18-61bd-4159-e740-432348e8b580"
      },
      "source": [
        "\r\n",
        "def integrate(function, a, b, i):\r\n",
        "    dx = (b - a) / i\r\n",
        "    integr = 0\r\n",
        "    for x in range(i):\r\n",
        "        x = x * dx + a\r\n",
        "        fx1 = eval(function)\r\n",
        "        x += dx\r\n",
        "        fx2 = eval(function)\r\n",
        "        integr += 0.5 * dx * (fx1 + fx2)\r\n",
        "    return integr\r\n",
        "\r\n",
        "function = input(\"Funkcja: \")\r\n",
        "a = float(input(\"Początek przedziału: \"))\r\n",
        "b = float(input(\"Koniec przedziału: \"))\r\n",
        "i = int(input(\"Liczba podprzedziałów: \"))\r\n",
        "print(\"Całka z funkcji {funkcjon} po przedziale od {a} do {b} = {integrate}\".format(funkcjon = function, a = a, b = b, integrate = integrate(function, a, b, i)))"
      ],
      "execution_count": 3,
      "outputs": [
        {
          "output_type": "stream",
          "text": [
            "Funkcja: 3*x*x\n",
            "Początek przedziału: 1\n",
            "Koniec przedziału: 11\n",
            "Liczba podprzedziałów: 6\n",
            "Całka z funkcji 3*x*x po przedziale od 1.0 do 11.0 = 1343.8888888888891\n"
          ],
          "name": "stdout"
        }
      ]
    },
    {
      "cell_type": "markdown",
      "metadata": {
        "id": "4huskbeCNvnT"
      },
      "source": [
        "Metoda Simpsona\r\n"
      ]
    },
    {
      "cell_type": "code",
      "metadata": {
        "colab": {
          "base_uri": "https://localhost:8080/"
        },
        "id": "Vfi-a4I9M2uk",
        "outputId": "375cef0a-272b-43f4-f531-957c083dc9b0"
      },
      "source": [
        "def integrate(function, a, b, n):\r\n",
        "  delta_x = (b-a)/n\r\n",
        "  integr = 0  \r\n",
        "  for i in range(0, n, 2):\r\n",
        "    x = a + delta_x * 2 * i\r\n",
        "    integr += delta_x * (function(x) + 4 * function(x + delta_x) + function(x + 2 * delta_x)) / 3\r\n",
        "  return integr\r\n",
        "\r\n",
        "a = float(input(\"Początek przedziału: \"))\r\n",
        "b = float(input(\"Koniec przedziału: \"))\r\n",
        "n = int(input(\"Liczba podprzedziałów: \"))\r\n",
        "print(\"Całka z funkcji x*x po przedziale od {a} do {b} = {integrate}\".format(a = a, b = b, integrate = integrate(lambda x: x*x, a, b, n)))"
      ],
      "execution_count": 4,
      "outputs": [
        {
          "output_type": "stream",
          "text": [
            "Początek przedziału: 5\n",
            "Koniec przedziału: 15\n",
            "Liczba podprzedziałów: 9\n",
            "Całka z funkcji x*x po przedziale od 5.0 do 15.0 = 2943.5299497027895\n"
          ],
          "name": "stdout"
        }
      ]
    }
  ]
}